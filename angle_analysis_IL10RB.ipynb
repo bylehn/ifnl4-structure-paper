{
 "cells": [
  {
   "cell_type": "code",
   "execution_count": 1,
   "metadata": {},
   "outputs": [
    {
     "name": "stderr",
     "output_type": "stream",
     "text": [
      "/home/fabian/mambaforge/envs/mdanalysis/lib/python3.11/site-packages/tqdm/auto.py:21: TqdmWarning: IProgress not found. Please update jupyter and ipywidgets. See https://ipywidgets.readthedocs.io/en/stable/user_install.html\n",
      "  from .autonotebook import tqdm as notebook_tqdm\n",
      "/home/fabian/mambaforge/envs/mdanalysis/lib/python3.11/site-packages/MDAnalysis/topology/TPRParser.py:161: DeprecationWarning: 'xdrlib' is deprecated and slated for removal in Python 3.13\n",
      "  import xdrlib\n"
     ]
    }
   ],
   "source": [
    "import MDAnalysis as mda\n",
    "import numpy as np\n",
    "import matplotlib.pyplot as plt"
   ]
  },
  {
   "cell_type": "code",
   "execution_count": 22,
   "metadata": {},
   "outputs": [],
   "source": [
    "def angle_between_points(A, B, C):\n",
    "    BA = A - B\n",
    "    BC = C - B\n",
    "    cosine_angle = np.dot(BA, BC) / (np.linalg.norm(BA) * np.linalg.norm(BC))\n",
    "    angle = np.arccos(cosine_angle)\n",
    "    return np.degrees(angle)"
   ]
  },
  {
   "cell_type": "markdown",
   "metadata": {},
   "source": [
    "### IFNL3"
   ]
  },
  {
   "cell_type": "code",
   "execution_count": 45,
   "metadata": {},
   "outputs": [],
   "source": [
    "ifnl3 = mda.Universe('ifnl3/protein_ions_chimera.pdb', 'ifnl3/300ns_protein_ions.xtc')"
   ]
  },
  {
   "cell_type": "code",
   "execution_count": 46,
   "metadata": {},
   "outputs": [],
   "source": [
    "il10rb = ifnl3.select_atoms('segid A and resid 20-111')\n",
    "lr1 = ifnl3.select_atoms('segid B and resid 6-103')\n",
    "l3 = ifnl3.select_atoms('segid C')\n"
   ]
  },
  {
   "cell_type": "code",
   "execution_count": 47,
   "metadata": {},
   "outputs": [],
   "source": [
    "angles_ifnl3 = []  # A list to store the angles for each frame\n",
    "\n",
    "for ts in ifnl3.trajectory:\n",
    "    COM1 = il10rb.center_of_mass()\n",
    "    COM3 = lr1.center_of_mass()\n",
    "    COM2 = l3.center_of_mass()\n",
    "    \n",
    "    angle = angle_between_points(COM1, COM2, COM3)\n",
    "    angles_ifnl3.append(angle)"
   ]
  },
  {
   "cell_type": "markdown",
   "metadata": {},
   "source": [
    "### IFNL4"
   ]
  },
  {
   "cell_type": "code",
   "execution_count": 48,
   "metadata": {},
   "outputs": [],
   "source": [
    "ifnl4 = mda.Universe('ifnl4/a3/protein_ions_label.pdb', 'ifnl4/a3/300ns_protein_ions.xtc')"
   ]
  },
  {
   "cell_type": "code",
   "execution_count": 49,
   "metadata": {},
   "outputs": [],
   "source": [
    "il10rb = ifnl4.select_atoms('segid A and resid 20-111')\n",
    "lr1 = ifnl4.select_atoms('segid B and resid 6-103')\n",
    "l4 = ifnl4.select_atoms('segid C')"
   ]
  },
  {
   "cell_type": "code",
   "execution_count": 50,
   "metadata": {},
   "outputs": [],
   "source": [
    "angles_ifnl4 = []  # A list to store the angles for each frame\n",
    "\n",
    "for ts in ifnl4.trajectory:\n",
    "    COM1 = il10rb.center_of_mass()\n",
    "    COM3 = lr1.center_of_mass()\n",
    "    COM2 = l4.center_of_mass()\n",
    "    \n",
    "    angle = angle_between_points(COM1, COM2, COM3)\n",
    "    angles_ifnl4.append(angle)"
   ]
  },
  {
   "cell_type": "markdown",
   "metadata": {},
   "source": [
    "### Plot angles"
   ]
  },
  {
   "cell_type": "code",
   "execution_count": 51,
   "metadata": {},
   "outputs": [
    {
     "data": {
      "image/png": "[encoded data removed]",
      "text/plain": [
       "<Figure size 640x480 with 1 Axes>"
      ]
     },
     "metadata": {},
     "output_type": "display_data"
    }
   ],
   "source": [
    "\n",
    "\n",
    "# Create a figure and axes\n",
    "fig, ax = plt.subplots()\n",
    "\n",
    "# Plot the distribution of angles for ifnl4\n",
    "ax.hist(angles_ifnl4, bins=30, alpha=0.5, label='IFNL4', color='red')\n",
    "\n",
    "# Plot the distribution of angles for ifnl3\n",
    "ax.hist(angles_ifnl3, bins=30, alpha=0.5, label='IFNL3', color='blue')\n",
    "\n",
    "# Set the labels and title\n",
    "ax.set_xlabel('Angle (degrees)')\n",
    "ax.set_ylabel('Frequency')\n",
    "#ax.set_title('Distribution of Angles')\n",
    "\n",
    "# Add a legend\n",
    "ax.legend()\n",
    "\n",
    "# Show the plot\n",
    "plt.show()"
   ]
  },
  {
   "cell_type": "code",
   "execution_count": 52,
   "metadata": {},
   "outputs": [
    {
     "data": {
      "text/plain": [
       "12.5647946897367"
      ]
     },
     "execution_count": 52,
     "metadata": {},
     "output_type": "execute_result"
    }
   ],
   "source": [
    "mean_ifnl4 = np.mean(angles_ifnl4)\n",
    "mean_ifnl3 = np.mean(angles_ifnl3)\n",
    "mean_difference = mean_ifnl4 - mean_ifnl3\n",
    "\n",
    "mean_difference\n"
   ]
  },
  {
   "cell_type": "code",
   "execution_count": 53,
   "metadata": {},
   "outputs": [
    {
     "data": {
      "text/plain": [
       "(3.105676831689452, 3.575129251402514)"
      ]
     },
     "execution_count": 53,
     "metadata": {},
     "output_type": "execute_result"
    }
   ],
   "source": [
    "import numpy as np\n",
    "\n",
    "std_ifnl3 = np.std(angles_ifnl3)\n",
    "std_ifnl4 = np.std(angles_ifnl4)\n",
    "\n",
    "std_ifnl3, std_ifnl4\n"
   ]
  }
 ],
 "metadata": {
  "kernelspec": {
   "display_name": "Python 3",
   "language": "python",
   "name": "python3"
  },
  "language_info": {
   "codemirror_mode": {
    "name": "ipython",
    "version": 3
   },
   "file_extension": ".py",
   "mimetype": "text/x-python",
   "name": "python",
   "nbconvert_exporter": "python",
   "pygments_lexer": "ipython3",
   "version": "3.11.5"
  }
 },
 "nbformat": 4,
 "nbformat_minor": 2
}
