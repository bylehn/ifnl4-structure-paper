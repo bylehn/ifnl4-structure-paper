{
 "cells": [
  {
   "cell_type": "code",
   "execution_count": 32,
   "metadata": {},
   "outputs": [],
   "source": [
    "import MDAnalysis as mda\n",
    "import numpy as np\n",
    "import matplotlib.pyplot as plt"
   ]
  },
  {
   "cell_type": "code",
   "execution_count": 33,
   "metadata": {},
   "outputs": [],
   "source": [
    "def angle_between_points(A, B, C):\n",
    "    BA = A - B\n",
    "    BC = C - B\n",
    "    cosine_angle = np.dot(BA, BC) / (np.linalg.norm(BA) * np.linalg.norm(BC))\n",
    "    angle = np.arccos(cosine_angle)\n",
    "    return np.degrees(angle)"
   ]
  },
  {
   "cell_type": "markdown",
   "metadata": {},
   "source": [
    "### IFNL3"
   ]
  },
  {
   "cell_type": "code",
   "execution_count": 35,
   "metadata": {},
   "outputs": [],
   "source": [
    "ifnl3_rep1 = mda.Universe('ifnl3.tpr', 'ifnl3_rep1.xtc')\n",
    "ifnl3_rep2 = mda.Universe('ifnl3.tpr', 'ifnl3_rep2.xtc')\n",
    "ifnl3_rep3 = mda.Universe('ifnl3.tpr', 'ifnl3_rep3.xtc')\n",
    "ifnl3 = mda.Universe('ifnl3.pdb', ['ifnl3_rep1.xtc', 'ifnl3_rep2.xtc', 'ifnl3_rep3.xtc'])"
   ]
  },
  {
   "cell_type": "code",
   "execution_count": 36,
   "metadata": {},
   "outputs": [],
   "source": [
    "# Extract the different domains of the complex\n",
    "il10rb = ifnl3.select_atoms('chainID A and resid 20-111')\n",
    "lr1 = ifnl3.select_atoms('chainID B and resid 6-103')\n",
    "l3 = ifnl3.select_atoms('chainID C')\n"
   ]
  },
  {
   "cell_type": "code",
   "execution_count": null,
   "metadata": {},
   "outputs": [],
   "source": [
    "# Calculate the angle between the COM of the domains\n",
    "angles_ifnl3 = []  # A list to store the angles for each frame\n",
    "\n",
    "for ts in ifnl3.trajectory:\n",
    "    COM1 = il10rb.center_of_mass()\n",
    "    COM3 = lr1.center_of_mass()\n",
    "    COM2 = l3.center_of_mass()\n",
    "    \n",
    "    angle = angle_between_points(COM1, COM2, COM3)\n",
    "    angles_ifnl3.append(angle)"
   ]
  },
  {
   "cell_type": "markdown",
   "metadata": {},
   "source": [
    "### IFNL4"
   ]
  },
  {
   "cell_type": "code",
   "execution_count": null,
   "metadata": {},
   "outputs": [],
   "source": [
    "a3_rep1 = mda.Universe('ifnl4_a3.tpr', 'ifnl4_a3_rep1.xtc')\n",
    "a3_rep2 = mda.Universe('ifnl4_a3.tpr', 'ifnl4_a3_rep2.xtc')\n",
    "a3_rep3 = mda.Universe('ifnl4_a3.tpr', 'ifnl4_a3_rep3.xtc')\n",
    "ifnl4 = mda.Universe('ifnl4_a3.pdb', ['ifnl4_a3_rep1.xtc', 'ifnl4_a3_rep2.xtc', 'ifnl4_a3_rep3.xtc'])"
   ]
  },
  {
   "cell_type": "code",
   "execution_count": 25,
   "metadata": {},
   "outputs": [],
   "source": [
    "il10rb = ifnl4.select_atoms('chainID A and resid 20-111')\n",
    "lr1 = ifnl4.select_atoms('chainID B and resid 6-103')\n",
    "l4 = ifnl4.select_atoms('chainID C')"
   ]
  },
  {
   "cell_type": "code",
   "execution_count": 26,
   "metadata": {},
   "outputs": [],
   "source": [
    "# Calculate the angle between the COM of the domains\n",
    "angles_ifnl4 = []  # A list to store the angles for each frame\n",
    "\n",
    "for ts in ifnl4.trajectory:\n",
    "    COM1 = il10rb.center_of_mass()\n",
    "    COM3 = lr1.center_of_mass()\n",
    "    COM2 = l4.center_of_mass()\n",
    "    \n",
    "    angle = angle_between_points(COM1, COM2, COM3)\n",
    "    angles_ifnl4.append(angle)"
   ]
  },
  {
   "cell_type": "markdown",
   "metadata": {},
   "source": [
    "### Plot angles"
   ]
  },
  {
   "cell_type": "code",
   "execution_count": null,
   "metadata": {},
   "outputs": [],
   "source": [
    "\n",
    "# Create a figure and axes\n",
    "fig, ax = plt.subplots()\n",
    "\n",
    "# Plot the distribution of angles for ifnl4\n",
    "ax.hist(angles_ifnl4, bins=30, alpha=0.5, label='IFNL4/A3', color='red')\n",
    "\n",
    "# Plot the distribution of angles for ifnl3\n",
    "ax.hist(angles_ifnl3, bins=30, alpha=0.5, label='IFNL3', color='blue')\n",
    "\n",
    "# Set the labels and title\n",
    "ax.set_xlabel('Angle (degrees)')\n",
    "ax.set_ylabel('Frequency')\n",
    "#ax.set_title('Distribution of Angles')\n",
    "\n",
    "# Add a legend\n",
    "ax.legend()\n",
    "\n",
    "# Show the plot\n",
    "plt.show()"
   ]
  },
  {
   "cell_type": "code",
   "execution_count": null,
   "metadata": {},
   "outputs": [],
   "source": [
    "mean_ifnl4 = np.mean(angles_ifnl4)\n",
    "mean_ifnl3 = np.mean(angles_ifnl3)\n",
    "mean_difference = mean_ifnl4 - mean_ifnl3\n",
    "\n",
    "mean_difference\n"
   ]
  },
  {
   "cell_type": "markdown",
   "metadata": {},
   "source": [
    "### Angle analysis for 300 ns runs"
   ]
  },
  {
   "cell_type": "code",
   "execution_count": 39,
   "metadata": {},
   "outputs": [],
   "source": [
    "ifnl3 = mda.Universe('ifnl3.pdb', ['ifnl3_rep1_300ns.xtc', 'ifnl3_rep2_300ns.xtc', 'ifnl3_rep3_300ns.xtc'])"
   ]
  },
  {
   "cell_type": "code",
   "execution_count": 40,
   "metadata": {},
   "outputs": [],
   "source": [
    "# Extract the different domains of the complex\n",
    "il10rb = ifnl3.select_atoms('chainID A and resid 20-111')\n",
    "lr1 = ifnl3.select_atoms('chainID B and resid 6-103')\n",
    "l3 = ifnl3.select_atoms('chainID C')"
   ]
  },
  {
   "cell_type": "code",
   "execution_count": 41,
   "metadata": {},
   "outputs": [],
   "source": [
    "# Calculate the angle between the COM of the domains\n",
    "angles_ifnl3 = []  # A list to store the angles for each frame\n",
    "\n",
    "for ts in ifnl3.trajectory:\n",
    "    COM1 = il10rb.center_of_mass()\n",
    "    COM3 = lr1.center_of_mass()\n",
    "    COM2 = l3.center_of_mass()\n",
    "    \n",
    "    angle = angle_between_points(COM1, COM2, COM3)\n",
    "    angles_ifnl3.append(angle)"
   ]
  },
  {
   "cell_type": "code",
   "execution_count": 51,
   "metadata": {},
   "outputs": [],
   "source": [
    "ifnl4 = mda.Universe('ifnl4_a3.pdb', ['ifnl4_a3_rep1_300ns.xtc', 'ifnl4_a3_rep2_300ns.xtc', 'ifnl4_a3_rep3_300ns.xtc'])"
   ]
  },
  {
   "cell_type": "code",
   "execution_count": 52,
   "metadata": {},
   "outputs": [],
   "source": [
    "il10rb = ifnl4.select_atoms('chainID A and resid 20-111')\n",
    "lr1 = ifnl4.select_atoms('chainID B and resid 6-103')\n",
    "l4 = ifnl4.select_atoms('chainID C')"
   ]
  },
  {
   "cell_type": "code",
   "execution_count": 53,
   "metadata": {},
   "outputs": [],
   "source": [
    "# Calculate the angle between the COM of the domains\n",
    "angles_ifnl4 = []  # A list to store the angles for each frame\n",
    "\n",
    "for ts in ifnl4.trajectory:\n",
    "    COM1 = il10rb.center_of_mass()\n",
    "    COM3 = lr1.center_of_mass()\n",
    "    COM2 = l4.center_of_mass()\n",
    "    \n",
    "    angle = angle_between_points(COM1, COM2, COM3)\n",
    "    angles_ifnl4.append(angle)"
   ]
  },
  {
   "cell_type": "code",
   "execution_count": null,
   "metadata": {},
   "outputs": [],
   "source": [
    "\n",
    "# Create a figure and axes\n",
    "fig, ax = plt.subplots()\n",
    "\n",
    "# Plot the distribution of angles for ifnl4\n",
    "ax.hist(angles_ifnl4, bins=30, alpha=0.5, label='IFNL4/A3', color='red')\n",
    "\n",
    "# Plot the distribution of angles for ifnl3\n",
    "ax.hist(angles_ifnl3, bins=30, alpha=0.5, label='IFNL3', color='blue')\n",
    "\n",
    "# Set the labels and title\n",
    "ax.set_xlabel('Angle (degrees)')\n",
    "ax.set_ylabel('Frequency')\n",
    "#ax.set_title('Distribution of Angles')\n",
    "\n",
    "# Add a legend\n",
    "ax.legend()\n",
    "\n",
    "# Show the plot\n",
    "plt.show()"
   ]
  }
 ],
 "metadata": {
  "kernelspec": {
   "display_name": "Python 3",
   "language": "python",
   "name": "python3"
  },
  "language_info": {
   "codemirror_mode": {
    "name": "ipython",
    "version": 3
   },
   "file_extension": ".py",
   "mimetype": "text/x-python",
   "name": "python",
   "nbconvert_exporter": "python",
   "pygments_lexer": "ipython3",
   "version": "3.11.4"
  }
 },
 "nbformat": 4,
 "nbformat_minor": 2
}
