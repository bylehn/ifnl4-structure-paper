{
 "cells": [
  {
   "cell_type": "code",
   "execution_count": 1,
   "metadata": {},
   "outputs": [
    {
     "name": "stderr",
     "output_type": "stream",
     "text": [
      "/home/bylehn/micromamba/envs/ifnl4-analysis/lib/python3.11/site-packages/tqdm/auto.py:21: TqdmWarning: IProgress not found. Please update jupyter and ipywidgets. See https://ipywidgets.readthedocs.io/en/stable/user_install.html\n",
      "  from .autonotebook import tqdm as notebook_tqdm\n",
      "/home/bylehn/micromamba/envs/ifnl4-analysis/lib/python3.11/site-packages/Bio/Application/__init__.py:40: BiopythonDeprecationWarning: The Bio.Application modules and modules relying on it have been deprecated.\n",
      "\n",
      "Due to the on going maintenance burden of keeping command line application\n",
      "wrappers up to date, we have decided to deprecate and eventually remove these\n",
      "modules.\n",
      "\n",
      "We instead now recommend building your command line and invoking it directly\n",
      "with the subprocess module.\n",
      "  warnings.warn(\n"
     ]
    }
   ],
   "source": [
    "import MDAnalysis as mda\n",
    "from MDAnalysis.analysis import align\n",
    "from MDAnalysis.coordinates.PDB import PDBWriter\n",
    "import numpy as np\n",
    "import matplotlib.pyplot as plt\n",
    "import csv"
   ]
  },
  {
   "cell_type": "markdown",
   "metadata": {},
   "source": [
    "### Load trajectories"
   ]
  },
  {
   "cell_type": "code",
   "execution_count": null,
   "metadata": {},
   "outputs": [],
   "source": [
    "ifnl3 = mda.Universe('ifnl3.pdb', ['ifnl3_rep1.xtc', 'ifnl3_rep2.xtc', 'ifnl3_rep3.xtc'])"
   ]
  },
  {
   "cell_type": "code",
   "execution_count": null,
   "metadata": {},
   "outputs": [],
   "source": [
    "ifnl4 = mda.Universe('ifnl4_a3.pdb', ['ifnl4_a3_rep1.xtc', 'ifnl4_a3_rep2.xtc', 'ifnl4_a3_rep3.xtc'])"
   ]
  },
  {
   "cell_type": "markdown",
   "metadata": {},
   "source": [
    "### Dynamic cross-correlation"
   ]
  },
  {
   "cell_type": "code",
   "execution_count": null,
   "metadata": {},
   "outputs": [],
   "source": [
    "def calculate_dcc(universe, selection1, selection2, start=None, stop=None, step=None):\n",
    "    # Select atom groups\n",
    "    group1 = universe.select_atoms(selection1)\n",
    "    group2 = universe.select_atoms(selection2)\n",
    "    \n",
    "    # Align the trajectory to the reference frame (first frame)\n",
    "    aligner = align.AlignTraj(universe, universe, select='protein and name CA',\n",
    "                              in_memory=True)\n",
    "    aligner.run()\n",
    "    \n",
    "    # Initialize arrays to store positions\n",
    "    positions1 = []\n",
    "    positions2 = []\n",
    "    \n",
    "    # Iterate through the trajectory\n",
    "    for ts in universe.trajectory[start:stop:step]:\n",
    "        positions1.append(group1.positions)\n",
    "        positions2.append(group2.positions)\n",
    "    \n",
    "    # Convert to numpy arrays\n",
    "    positions1 = np.array(positions1)\n",
    "    positions2 = np.array(positions2)\n",
    "    \n",
    "    # Calculate average positions\n",
    "    avg_pos1 = np.mean(positions1, axis=0)\n",
    "    avg_pos2 = np.mean(positions2, axis=0)\n",
    "    \n",
    "    # Calculate fluctuations\n",
    "    fluct1 = positions1 - avg_pos1\n",
    "    fluct2 = positions2 - avg_pos2\n",
    "    \n",
    "    # Calculate DCC matrix\n",
    "    num_atoms1 = len(group1)\n",
    "    num_atoms2 = len(group2)\n",
    "    dcc_matrix = np.zeros((num_atoms1, num_atoms2))\n",
    "    \n",
    "    for i in range(num_atoms1):\n",
    "        for j in range(num_atoms2):\n",
    "            numerator = np.mean(fluct1[:, i] * fluct2[:, j])\n",
    "            denominator = np.sqrt(np.mean(fluct1[:, i]**2) * np.mean(fluct2[:, j]**2))\n",
    "            dcc_matrix[i, j] = numerator / denominator\n",
    "    \n",
    "    return dcc_matrix"
   ]
  },
  {
   "cell_type": "code",
   "execution_count": null,
   "metadata": {},
   "outputs": [],
   "source": [
    "# Calculate DCC\n",
    "dcc_ifnl3 = calculate_dcc(ifnl3, \"name CA\", \"name CA\", step=1000)\n",
    "\n",
    "# Plot the results\n",
    "plt.figure(figsize=(10, 8))\n",
    "plt.imshow(dcc_ifnl3, cmap='coolwarm', vmin=-1, vmax=1)\n",
    "plt.colorbar(label='Correlation')\n",
    "plt.title('Dynamic Cross-Correlation Matrix for IFNL3')\n",
    "plt.xlabel('Residue number')\n",
    "plt.ylabel('Residue number')\n",
    "plt.show()"
   ]
  },
  {
   "cell_type": "code",
   "execution_count": null,
   "metadata": {},
   "outputs": [],
   "source": [
    "# Calculate DCC\n",
    "dcc_ifnl4 = calculate_dcc(ifnl4, \"name CA\", \"name CA\", step=1000)\n",
    "\n",
    "# Plot the results\n",
    "plt.figure(figsize=(10, 8))\n",
    "plt.imshow(dcc_ifnl4, cmap='coolwarm', vmin=-1, vmax=1)\n",
    "plt.colorbar(label='Correlation')\n",
    "plt.title('Dynamic Cross-Correlation Matrix for IFNL4/A3')\n",
    "plt.xlabel('Residue number')\n",
    "plt.ylabel('Residue number')\n",
    "plt.show()"
   ]
  },
  {
   "cell_type": "code",
   "execution_count": null,
   "metadata": {},
   "outputs": [],
   "source": [
    "diff_dcc = dcc_ifnl4 - dcc_ifnl3\n",
    "\n",
    "# Plot the results\n",
    "plt.figure(figsize=(10, 8))\n",
    "plt.imshow(diff_dcc, cmap='coolwarm', vmin=-1, vmax=1)\n",
    "plt.colorbar(label='Correlation Difference')\n",
    "plt.xlabel('Residue number')\n",
    "plt.ylabel('Residue number')\n",
    "plt.show()\n"
   ]
  }
 ],
 "metadata": {
  "kernelspec": {
   "display_name": "Python 3",
   "language": "python",
   "name": "python3"
  },
  "language_info": {
   "codemirror_mode": {
    "name": "ipython",
    "version": 3
   },
   "file_extension": ".py",
   "mimetype": "text/x-python",
   "name": "python",
   "nbconvert_exporter": "python",
   "pygments_lexer": "ipython3",
   "version": "3.11.4"
  }
 },
 "nbformat": 4,
 "nbformat_minor": 2
}
